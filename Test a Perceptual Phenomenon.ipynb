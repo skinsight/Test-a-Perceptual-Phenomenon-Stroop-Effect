{
 "cells": [
  {
   "cell_type": "markdown",
   "metadata": {},
   "source": [
    "### Analyzing the Stroop Effect\n",
    "(1) What is the independent variable? What is the dependent variable?"
   ]
  },
  {
   "cell_type": "markdown",
   "metadata": {},
   "source": [
    "Independent variable is the 'Read Time' (Read Time is the time it takes to name the ink colors in equally-sized lists). Dependent variable is the 'Task words condition'. Task words condition has two values: Congruent Words Condition, and Incongruent Words Condition. For each user (observation), 'Task words condition' (independent variable) is changed between congruent words condition and incongruent words condition and 'Read Time' (dependent variable) is measured."
   ]
  },
  {
   "cell_type": "markdown",
   "metadata": {},
   "source": [
    "(2) What is an appropriate set of hypotheses for this task? Specify your null and alternative hypotheses, and clearly define any notation used. Justify your choices."
   ]
  },
  {
   "cell_type": "markdown",
   "metadata": {},
   "source": [
    "My goal is to test if congruent words condition has lower read time than incongruent words condition. In this case, I want to assume that the congruent words condition has longer or same read time as incongruent words condition unless the congruent words condition proves to have shorter read time at a Type I error rate of 5%. Below is how I write the null and alternative hypothesis:\n",
    "$$H_0: u_{diff} \\geq 0$$\n",
    "\n",
    "\n",
    "$$H_1: u_{diff} < 0$$\n",
    "\n",
    "\n",
    "$u_{diff}$ is the population mean difference between the read time of congruent and incongruent words condition.\n",
    "\n",
    "I will use paired sample one tailed t-test to distinguish the above proposed hypotheses. The assumptions for paired sample one tailed t-test are:\n",
    "1. t-tests are most appropriate when dealing with problems with a limited sample size (generally n < 30). The larger the sample size the better. Based on my fundamental knowledge of statistics, at least 20 observations are necessary to evaluate normality properly.\n",
    "2. The differences in read times should be approximately normally distributed. \n",
    "3. Mean of differences in read times is the population parameter of interest.\n",
    "4. Original population standard deviation for differences in read times is unknown.\n",
    "\n",
    "Works Cited:\n",
    "1. http://www.webassign.net/idcollabstat2/Chapter10.pdf\n",
    "2. http://www.statstutor.ac.uk/resources/uploaded/paired-t-test.pdf"
   ]
  },
  {
   "cell_type": "markdown",
   "metadata": {},
   "source": [
    "(3) Report some descriptive statistics regarding this dataset. Include at least one measure of central tendency and at least one measure of variability. The name of the data file is 'stroopdata.csv'."
   ]
  },
  {
   "cell_type": "code",
   "execution_count": 1,
   "metadata": {},
   "outputs": [
    {
     "data": {
      "text/html": [
       "<div>\n",
       "<style>\n",
       "    .dataframe thead tr:only-child th {\n",
       "        text-align: right;\n",
       "    }\n",
       "\n",
       "    .dataframe thead th {\n",
       "        text-align: left;\n",
       "    }\n",
       "\n",
       "    .dataframe tbody tr th {\n",
       "        vertical-align: top;\n",
       "    }\n",
       "</style>\n",
       "<table border=\"1\" class=\"dataframe\">\n",
       "  <thead>\n",
       "    <tr style=\"text-align: right;\">\n",
       "      <th></th>\n",
       "      <th>Congruent</th>\n",
       "      <th>Incongruent</th>\n",
       "    </tr>\n",
       "  </thead>\n",
       "  <tbody>\n",
       "    <tr>\n",
       "      <th>0</th>\n",
       "      <td>12.079</td>\n",
       "      <td>19.278</td>\n",
       "    </tr>\n",
       "    <tr>\n",
       "      <th>1</th>\n",
       "      <td>16.791</td>\n",
       "      <td>18.741</td>\n",
       "    </tr>\n",
       "    <tr>\n",
       "      <th>2</th>\n",
       "      <td>9.564</td>\n",
       "      <td>21.214</td>\n",
       "    </tr>\n",
       "    <tr>\n",
       "      <th>3</th>\n",
       "      <td>8.630</td>\n",
       "      <td>15.687</td>\n",
       "    </tr>\n",
       "    <tr>\n",
       "      <th>4</th>\n",
       "      <td>14.669</td>\n",
       "      <td>22.803</td>\n",
       "    </tr>\n",
       "  </tbody>\n",
       "</table>\n",
       "</div>"
      ],
      "text/plain": [
       "   Congruent  Incongruent\n",
       "0     12.079       19.278\n",
       "1     16.791       18.741\n",
       "2      9.564       21.214\n",
       "3      8.630       15.687\n",
       "4     14.669       22.803"
      ]
     },
     "execution_count": 1,
     "metadata": {},
     "output_type": "execute_result"
    }
   ],
   "source": [
    "# Import libraries.\n",
    "import pandas as pd\n",
    "import numpy as np\n",
    "import scipy.stats as stats\n",
    "import matplotlib.pyplot as plt\n",
    "%matplotlib inline\n",
    "\n",
    "# Read in the stroopdata.csv data. Store it in df. Look at the top few rows\n",
    "df = pd.read_csv('stroopdata.csv')\n",
    "df.head()"
   ]
  },
  {
   "cell_type": "code",
   "execution_count": 2,
   "metadata": {},
   "outputs": [
    {
     "name": "stdout",
     "output_type": "stream",
     "text": [
      "Measures of Central Tendency\n",
      "Mean of congruent read times: 14.051124999999999\n",
      "Mean of incongruent read times: 22.015916666666666\n",
      "Median of congruent read times: 14.3565\n",
      "Median of incongruent read times: 21.0175\n",
      " \n",
      "Measures of Variability\n",
      "Interquartile Range of congruent read times: 4.3054999999999986\n",
      "Interquartile Range of incongruent read times: 5.33475\n",
      "Standard Deviation of congruent read times: 3.5593579576451955\n",
      "Standard Deviation of incongruent read times: 4.797057122469138\n"
     ]
    }
   ],
   "source": [
    "# Report some descriptive statistics\n",
    "print(\"Measures of Central Tendency\")\n",
    "print(\"Mean of congruent read times: {}\".format(df['Congruent'].mean()))\n",
    "print(\"Mean of incongruent read times: {}\".format(df['Incongruent'].mean()))\n",
    "print(\"Median of congruent read times: {}\".format(df['Congruent'].median()))\n",
    "print(\"Median of incongruent read times: {}\".format(df['Incongruent'].median()))\n",
    "print(' ')\n",
    "print(\"Measures of Variability\")\n",
    "print(\"Interquartile Range of congruent read times: {}\".format(stats.iqr(df['Congruent'])))\n",
    "print(\"Interquartile Range of incongruent read times: {}\".format(stats.iqr(df['Incongruent'])))\n",
    "print(\"Standard Deviation of congruent read times: {}\".format(df['Congruent'].std()))\n",
    "print(\"Standard Deviation of incongruent read times: {}\".format(df['Incongruent'].std()))"
   ]
  },
  {
   "cell_type": "markdown",
   "metadata": {},
   "source": [
    "### Measures of Central Tendency\n",
    "\n",
    "Mean of congruent read times: 14.051124999999999\n",
    "\n",
    "Mean of incongruent read times: 22.015916666666666\n",
    "\n",
    "Median of congruent read times: 14.3565\n",
    "\n",
    "Median of incongruent read times: 21.0175\n",
    "\n",
    "\n",
    "\n",
    "### Measures of Variability\n",
    "\n",
    "Interquartile Range of congruent read times: 4.3054999999999986\n",
    "\n",
    "Interquartile Range of incongruent read times: 5.33475\n",
    "\n",
    "Standard Deviation of congruent read times: 3.5593579576451955\n",
    "\n",
    "Standard Deviation of incongruent read times: 4.797057122469138\n"
   ]
  },
  {
   "cell_type": "markdown",
   "metadata": {},
   "source": [
    "(4) Provide one or two visualizations that show the distribution of the sample data. Write one or two sentences noting what you observe about the plot or plots."
   ]
  },
  {
   "cell_type": "markdown",
   "metadata": {},
   "source": [
    "### Helper Function\n"
   ]
  },
  {
   "cell_type": "markdown",
   "metadata": {},
   "source": [
    "#### Plot histogram and do skew analysis\n"
   ]
  },
  {
   "cell_type": "code",
   "execution_count": 3,
   "metadata": {},
   "outputs": [],
   "source": [
    "def analyze_skew(df, analyze_var):\n",
    "\n",
    "    # Source for skew measure: http://www.statisticshowto.com/probability-and-statistics/skewed-distribution/\n",
    "    skew_val = df[analyze_var].mean() - df[analyze_var].median()\n",
    "    if skew_val > 0:\n",
    "        print(\"The {} read times have a right (positive) skew\".format(analyze_var))\n",
    "    elif skew_val < 0:\n",
    "        print(\"The {} read times have a left (negative) skew\".format(analyze_var))\n",
    "    else:\n",
    "        print(\"The {} read times have no skew\".format(analyze_var))\n",
    "\n",
    "    # Generate histogram for variable\n",
    "    plt.hist(df[analyze_var])\n",
    "    plt.title('Histogram ' + analyze_var)\n",
    "    plt.xlabel(analyze_var)\n",
    "    plt.ylabel('Frequency of {}'.format(analyze_var))"
   ]
  },
  {
   "cell_type": "code",
   "execution_count": 4,
   "metadata": {
    "scrolled": true
   },
   "outputs": [
    {
     "name": "stdout",
     "output_type": "stream",
     "text": [
      "The Congruent read times have a left (negative) skew\n"
     ]
    },
    {
     "data": {
      "image/png": "[encoded data removed]",
      "text/plain": [
       "<matplotlib.figure.Figure at 0x7f356cdaa5c0>"
      ]
     },
     "metadata": {},
     "output_type": "display_data"
    }
   ],
   "source": [
    "# Plot histogram for Congruent\n",
    "analyze_skew(df, 'Congruent')"
   ]
  },
  {
   "cell_type": "code",
   "execution_count": 5,
   "metadata": {
    "scrolled": true
   },
   "outputs": [
    {
     "name": "stdout",
     "output_type": "stream",
     "text": [
      "The Incongruent read times have a right (positive) skew\n"
     ]
    },
    {
     "data": {
      "image/png": "[encoded data removed]",
      "text/plain": [
       "<matplotlib.figure.Figure at 0x7f356ad3e780>"
      ]
     },
     "metadata": {},
     "output_type": "display_data"
    }
   ],
   "source": [
    "# Plot histogram for Incongruent\n",
    "analyze_skew(df, 'Incongruent')"
   ]
  },
  {
   "cell_type": "code",
   "execution_count": 6,
   "metadata": {},
   "outputs": [
    {
     "data": {
      "text/plain": [
       "Text(0,0.5,'Frequency of Congruent - Incongruent')"
      ]
     },
     "execution_count": 6,
     "metadata": {},
     "output_type": "execute_result"
    },
    {
     "data": {
      "image/png": "[encoded data removed]",
      "text/plain": [
       "<matplotlib.figure.Figure at 0x7f356acc44e0>"
      ]
     },
     "metadata": {},
     "output_type": "display_data"
    }
   ],
   "source": [
    "# Plot histogram for Congruent - Incongruent\n",
    "rt_diffs = df['Congruent'] - df['Incongruent']\n",
    "plt.hist(rt_diffs)\n",
    "plt.title('Histogram for Congruent - Incongruent')\n",
    "plt.xlabel('Congruent - Incongruent')\n",
    "plt.ylabel('Frequency of {}'.format('Congruent - Incongruent'))"
   ]
  },
  {
   "cell_type": "markdown",
   "metadata": {},
   "source": [
    "\n",
    "For all observations (users), congruent read time is less than incongruent read time. The congruent read times have a left (negative) skew. The incongruent read times have a right (positive) skew. From the skews, we observe that for congruent words condition, some users have a very short read time compared to average while for incongruent words condition, some users have a very large read time compared to average."
   ]
  },
  {
   "cell_type": "markdown",
   "metadata": {},
   "source": [
    "(5)  Now, perform the statistical test and report your results. What is your confidence level or Type I error associated with your test? What is your conclusion regarding the hypotheses you set up? Did the results match up with your expectations?"
   ]
  },
  {
   "cell_type": "code",
   "execution_count": 7,
   "metadata": {},
   "outputs": [
    {
     "name": "stdout",
     "output_type": "stream",
     "text": [
      "p-value for paired sample one tailed t-test:2.051500292855589e-08\n",
      "t-stat for paired sample one tailed t-test:-8.020706944109957\n"
     ]
    }
   ],
   "source": [
    "# Set columns to lists to use in ttest function\n",
    "Congruent = df['Congruent'].values.tolist()\n",
    "Incongruent = df['Incongruent'].values.tolist()\n",
    "\n",
    "\n",
    "\n",
    "# Perform paired sample one tailed t-test\n",
    "stats_results = stats.ttest_rel(Congruent,Incongruent)\n",
    "p_value = stats_results[1]/2 #Source: https://docs.scipy.org/doc/scipy/reference/generated/scipy.stats.ttest_rel.html\n",
    "print(\"p-value for paired sample one tailed t-test:{}\".format(p_value))\n",
    "print(\"t-stat for paired sample one tailed t-test:{}\".format(stats_results[0]))"
   ]
  },
  {
   "cell_type": "markdown",
   "metadata": {},
   "source": [
    "Type I error associated with my test is 5%. The p-value for my paired sample one tailed t-test is 2.051500292855589e-08. It is less than 0.05. Hence, I reject the null hypothesis. Hence, my conclusion is that congruent words condition read time is less than incongruent words condition read time with statistical significance. The results match up to my expectations (based on descriptive statistics and the experience of doing the Stroop test on my own)."
   ]
  },
  {
   "cell_type": "markdown",
   "metadata": {},
   "source": [
    "(6) Optional: What do you think is responsible for the effects observed? Can you think of an alternative or similar task that would result in a similar effect? Some research about the problem will be helpful for thinking about these two questions!"
   ]
  },
  {
   "cell_type": "markdown",
   "metadata": {},
   "source": [
    "The most prevalent theory to explain Stroop effect is Automaticity. According to Automaticity theory, spotting colors is not an \"automatic process\" whereas, habitual reading makes the brain automatically understand the meaning of words. This results in delay to respond when ink color has to be read with word not of same color. This idea is based on the assumption that automatic reading does not need controlled attention, but it still requires some resources for attention. This resource requirement for automatic reading is enough to reduce the amount of attention available for color recognition.\n",
    "\n",
    "\n",
    "One variation of Stroop test can be Numerical Stroop test. In Numerical Stroop test, participants are presented with a pair of numbers, with each number displayed in a different physical size. The participant’s task is to say out loud the bigger physical size number. A digit can be presented as big or small (e.g., <font size=4>5</font> vs. 5), and its numerical value is irrelevant. The task has two conditions: Congruent number condition, and Incongruent number condition. Comparing digits in incongruent trials (e.g., <font size=4>3</font> 5) is slower than comparing digits in congruent trials (e.g., <font size=4>5</font> 3). This shows that the effect of irrelevant numerical values on physical size difference is similar to the effect of irrelevant color words on responding to colors. This suggests that numerical values are processed automatically even when they are not relevant to the task at hand.\n",
    "\n",
    "Works Cited:\n",
    "1. https://www.verywellmind.com/what-is-the-stroop-effect-2795832\n",
    "2. https://en.wikipedia.org/wiki/Stroop_effect\n",
    "3. http://psychclassics.yorku.ca/Stroop/\n",
    "4. https://www.wisegeek.com/what-is-the-stroop-effect.htm\n",
    "5. Monahan, J.S (2001). \"Coloring single Stroop elements: Reducing automaticity or slowing color processing\". Journal of General Psychology. 128 (1): 98–112. doi:10.1080/00221300109598901.\n",
    "6. Stirling, N (1979). \"Stroop interference: An input and an output phenomenon\". Quarterly Journal of Experimental Psychology. 31: 121–132. doi:10.1080/14640747908400712\n",
    "7. Henik, A; Tzelgov, J (1982). \"Is three greater than five: The relation between physical and semantic size in comparison tasks\". Memory & Cognition. 10: 389–395. doi:10.3758/BF03202431"
   ]
  },
  {
   "cell_type": "code",
   "execution_count": null,
   "metadata": {},
   "outputs": [],
   "source": []
  }
 ],
 "metadata": {
  "kernelspec": {
   "display_name": "Python 3",
   "language": "python",
   "name": "python3"
  },
  "language_info": {
   "codemirror_mode": {
    "name": "ipython",
    "version": 3
   },
   "file_extension": ".py",
   "mimetype": "text/x-python",
   "name": "python",
   "nbconvert_exporter": "python",
   "pygments_lexer": "ipython3",
   "version": "3.6.3"
  }
 },
 "nbformat": 4,
 "nbformat_minor": 2
}
